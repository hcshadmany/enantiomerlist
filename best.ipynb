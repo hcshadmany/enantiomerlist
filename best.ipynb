{
 "cells": [
  {
   "cell_type": "markdown",
   "metadata": {},
   "source": [
    "## Preliminaries"
   ]
  },
  {
   "cell_type": "code",
   "execution_count": 26,
   "metadata": {},
   "outputs": [
    {
     "name": "stdout",
     "output_type": "stream",
     "text": [
      "The autoreload extension is already loaded. To reload it, use:\n",
      "  %reload_ext autoreload\n"
     ]
    }
   ],
   "source": [
    "%load_ext autoreload\n",
    "%autoreload 2"
   ]
  },
  {
   "cell_type": "code",
   "execution_count": 27,
   "metadata": {},
   "outputs": [],
   "source": [
    "import __init__ as a\n",
    "import pandas as pd\n",
    "import math\n",
    "a.mpl.rcParams['font.size'] = 12"
   ]
  },
  {
   "cell_type": "markdown",
   "metadata": {},
   "source": [
    "### This is important"
   ]
  },
  {
   "cell_type": "code",
   "execution_count": 28,
   "metadata": {},
   "outputs": [
    {
     "name": "stdout",
     "output_type": "stream",
     "text": [
      "Convering SMILES string to Mol format...\n",
      "Computing 3D coordinates...\n",
      "Computing Mordred features...\n"
     ]
    },
    {
     "name": "stderr",
     "output_type": "stream",
     "text": [
      "100%|██████████| 2/2 [00:00<00:00,  2.83it/s]\n"
     ]
    },
    {
     "name": "stdout",
     "output_type": "stream",
     "text": [
      "There are 2 molecules and 1826 features\n"
     ]
    },
    {
     "data": {
      "text/html": [
       "<div>\n",
       "<style scoped>\n",
       "    .dataframe tbody tr th:only-of-type {\n",
       "        vertical-align: middle;\n",
       "    }\n",
       "\n",
       "    .dataframe tbody tr th {\n",
       "        vertical-align: top;\n",
       "    }\n",
       "\n",
       "    .dataframe thead th {\n",
       "        text-align: right;\n",
       "    }\n",
       "</style>\n",
       "<table border=\"1\" class=\"dataframe\">\n",
       "  <thead>\n",
       "    <tr style=\"text-align: right;\">\n",
       "      <th></th>\n",
       "      <th>ABC</th>\n",
       "      <th>ABCGG</th>\n",
       "      <th>nAcid</th>\n",
       "      <th>nBase</th>\n",
       "      <th>SpAbs_A</th>\n",
       "      <th>SpMax_A</th>\n",
       "      <th>SpDiam_A</th>\n",
       "      <th>SpAD_A</th>\n",
       "      <th>SpMAD_A</th>\n",
       "      <th>LogEE_A</th>\n",
       "      <th>...</th>\n",
       "      <th>SRW10</th>\n",
       "      <th>TSRW10</th>\n",
       "      <th>MW</th>\n",
       "      <th>AMW</th>\n",
       "      <th>WPath</th>\n",
       "      <th>WPol</th>\n",
       "      <th>Zagreb1</th>\n",
       "      <th>Zagreb2</th>\n",
       "      <th>mZagreb1</th>\n",
       "      <th>mZagreb2</th>\n",
       "    </tr>\n",
       "  </thead>\n",
       "  <tbody>\n",
       "    <tr>\n",
       "      <td>OC[C@@H](O1)[C@@H](O)[C@H](O)[C@@H]2[C@@H]1c3c(O)c(OC)c(O)cc3C(=O)O2</td>\n",
       "      <td>17.8202</td>\n",
       "      <td>15.152</td>\n",
       "      <td>0</td>\n",
       "      <td>0</td>\n",
       "      <td>29.22</td>\n",
       "      <td>2.56069</td>\n",
       "      <td>5.12137</td>\n",
       "      <td>29.22</td>\n",
       "      <td>1.27043</td>\n",
       "      <td>4.077</td>\n",
       "      <td>...</td>\n",
       "      <td>10.4037</td>\n",
       "      <td>58.1999</td>\n",
       "      <td>328.079</td>\n",
       "      <td>8.41229</td>\n",
       "      <td>1030</td>\n",
       "      <td>47</td>\n",
       "      <td>126</td>\n",
       "      <td>157</td>\n",
       "      <td>9.47222</td>\n",
       "      <td>5.11111</td>\n",
       "    </tr>\n",
       "    <tr>\n",
       "      <td>CC(=O)NCCC1=CNc2c1cc(OC)cc2</td>\n",
       "      <td>12.8658</td>\n",
       "      <td>11.2443</td>\n",
       "      <td>0</td>\n",
       "      <td>0</td>\n",
       "      <td>21.6032</td>\n",
       "      <td>2.42108</td>\n",
       "      <td>4.72099</td>\n",
       "      <td>21.6032</td>\n",
       "      <td>1.27077</td>\n",
       "      <td>3.74904</td>\n",
       "      <td>...</td>\n",
       "      <td>9.53727</td>\n",
       "      <td>63.2639</td>\n",
       "      <td>232.121</td>\n",
       "      <td>7.03398</td>\n",
       "      <td>561</td>\n",
       "      <td>22</td>\n",
       "      <td>84</td>\n",
       "      <td>96</td>\n",
       "      <td>5.80556</td>\n",
       "      <td>3.88889</td>\n",
       "    </tr>\n",
       "  </tbody>\n",
       "</table>\n",
       "<p>2 rows × 1826 columns</p>\n",
       "</div>"
      ],
      "text/plain": [
       "                                                        ABC    ABCGG nAcid  \\\n",
       "OC[C@@H](O1)[C@@H](O)[C@H](O)[C@@H]2[C@@H]1c3c(...  17.8202   15.152     0   \n",
       "CC(=O)NCCC1=CNc2c1cc(OC)cc2                         12.8658  11.2443     0   \n",
       "\n",
       "                                                   nBase  SpAbs_A  SpMax_A  \\\n",
       "OC[C@@H](O1)[C@@H](O)[C@H](O)[C@@H]2[C@@H]1c3c(...     0    29.22  2.56069   \n",
       "CC(=O)NCCC1=CNc2c1cc(OC)cc2                            0  21.6032  2.42108   \n",
       "\n",
       "                                                   SpDiam_A   SpAD_A  SpMAD_A  \\\n",
       "OC[C@@H](O1)[C@@H](O)[C@H](O)[C@@H]2[C@@H]1c3c(...  5.12137    29.22  1.27043   \n",
       "CC(=O)NCCC1=CNc2c1cc(OC)cc2                         4.72099  21.6032  1.27077   \n",
       "\n",
       "                                                    LogEE_A  ...    SRW10  \\\n",
       "OC[C@@H](O1)[C@@H](O)[C@H](O)[C@@H]2[C@@H]1c3c(...    4.077  ...  10.4037   \n",
       "CC(=O)NCCC1=CNc2c1cc(OC)cc2                         3.74904  ...  9.53727   \n",
       "\n",
       "                                                     TSRW10       MW      AMW  \\\n",
       "OC[C@@H](O1)[C@@H](O)[C@H](O)[C@@H]2[C@@H]1c3c(...  58.1999  328.079  8.41229   \n",
       "CC(=O)NCCC1=CNc2c1cc(OC)cc2                         63.2639  232.121  7.03398   \n",
       "\n",
       "                                                   WPath WPol Zagreb1 Zagreb2  \\\n",
       "OC[C@@H](O1)[C@@H](O)[C@H](O)[C@@H]2[C@@H]1c3c(...  1030   47     126     157   \n",
       "CC(=O)NCCC1=CNc2c1cc(OC)cc2                          561   22      84      96   \n",
       "\n",
       "                                                   mZagreb1 mZagreb2  \n",
       "OC[C@@H](O1)[C@@H](O)[C@H](O)[C@@H]2[C@@H]1c3c(...  9.47222  5.11111  \n",
       "CC(=O)NCCC1=CNc2c1cc(OC)cc2                         5.80556  3.88889  \n",
       "\n",
       "[2 rows x 1826 columns]"
      ]
     },
     "metadata": {},
     "output_type": "display_data"
    }
   ],
   "source": [
    "#Demo\n",
    "a.test_rdkit_mordred() # Should show features for two molecules below.  "
   ]
  },
  {
   "cell_type": "code",
   "execution_count": 29,
   "metadata": {},
   "outputs": [
    {
     "name": "stdout",
     "output_type": "stream",
     "text": [
      "Convering SMILES string to Mol format...\n",
      "Computing 3D coordinates...\n",
      "Computing Mordred features...\n"
     ]
    },
    {
     "name": "stderr",
     "output_type": "stream",
     "text": [
      "100%|██████████| 2/2 [00:00<00:00,  5.37it/s]\n"
     ]
    },
    {
     "name": "stdout",
     "output_type": "stream",
     "text": [
      "There are 2 molecules and 1826 features\n",
      "79.7 percent of Mordred features are identical between (+)-carvone and (-)-carvone.\n"
     ]
    }
   ],
   "source": [
    "#Demo\n",
    "plus_carvone = 'CC1=CC[C@@H](CC1=O)C(=C)C'\n",
    "minus_carvone = 'CC1=CC[C@H](CC1=O)C(=C)C'\n",
    "features = a.smiles_to_mordred([plus_carvone,minus_carvone])\n",
    "plus_features = features.values[0,:]\n",
    "minus_features = features.values[1,:]\n",
    "print(\"%.1f percent of Mordred features are identical between (+)-carvone and (-)-carvone.\" % \\\n",
    "      (100.0*(plus_features==minus_features).mean()))"
   ]
  },
  {
   "cell_type": "code",
   "execution_count": 30,
   "metadata": {},
   "outputs": [],
   "source": [
    "#shadmany_smiles = a.load_other_smiles(shadmany=True)\n",
    "#shadmany_data = a.load_data('shadmany')\n",
    "#shadmany_data"
   ]
  },
  {
   "cell_type": "code",
   "execution_count": 31,
   "metadata": {},
   "outputs": [
    {
     "name": "stdout",
     "output_type": "stream",
     "text": [
      "Loaded 454 molecules\n"
     ]
    }
   ],
   "source": [
    "coleman_smiles = a.load_other_smiles(coleman=True)\n",
    "coleman_data = a.load_data(\"coleman\")#.iloc[1:]\n",
    "import numpy as np\n",
    "coleman_data['N'] = np.arange(0, coleman_data.shape[0]/2, 0.5).astype(int)\n",
    "coleman_data['Normalized Detection Threshold'] = coleman_data['Normalized Detection Threshold'].astype('float')\n",
    "#match sutto code above to lines 261 in the init file"
   ]
  },
  {
   "cell_type": "code",
   "execution_count": 32,
   "metadata": {},
   "outputs": [
    {
     "data": {
      "text/html": [
       "<div>\n",
       "<style scoped>\n",
       "    .dataframe tbody tr th:only-of-type {\n",
       "        vertical-align: middle;\n",
       "    }\n",
       "\n",
       "    .dataframe tbody tr th {\n",
       "        vertical-align: top;\n",
       "    }\n",
       "\n",
       "    .dataframe thead th {\n",
       "        text-align: right;\n",
       "    }\n",
       "</style>\n",
       "<table border=\"1\" class=\"dataframe\">\n",
       "  <thead>\n",
       "    <tr style=\"text-align: right;\">\n",
       "      <th></th>\n",
       "      <th>Molecule Name</th>\n",
       "      <th>Pubchem ID #</th>\n",
       "      <th>Note</th>\n",
       "      <th>SMILES String</th>\n",
       "      <th>Detection Threshold</th>\n",
       "      <th>Detection Units</th>\n",
       "      <th>Normalized Detection Threshold</th>\n",
       "      <th>Molecule Odour</th>\n",
       "      <th>Resources</th>\n",
       "      <th>N</th>\n",
       "    </tr>\n",
       "  </thead>\n",
       "  <tbody>\n",
       "    <tr>\n",
       "      <td>0</td>\n",
       "      <td>(R)-(-)-gamma-ionone</td>\n",
       "      <td>11389922</td>\n",
       "      <td>NaN</td>\n",
       "      <td>CC(=O)/C=C/[C@H]1C(=C)CCCC1(C)C</td>\n",
       "      <td>1.10E+01</td>\n",
       "      <td>ppb water</td>\n",
       "      <td>11.00</td>\n",
       "      <td>Weak green, fruity, pineapple-like odor with m...</td>\n",
       "      <td>Rows 66-100 are from here: https://www.jstage....</td>\n",
       "      <td>0</td>\n",
       "    </tr>\n",
       "    <tr>\n",
       "      <td>1</td>\n",
       "      <td>(S)-(+)-gamma-ionone</td>\n",
       "      <td>11194862</td>\n",
       "      <td>NaN</td>\n",
       "      <td>CC(=O)/C=C/[C@@H]1C(=C)CCCC1(C)C</td>\n",
       "      <td>7.00E-02</td>\n",
       "      <td>ppb water</td>\n",
       "      <td>0.07</td>\n",
       "      <td>Linear, very pleasant, floral, green, woody od...</td>\n",
       "      <td>Rows 101-121 are from here: https://github.com...</td>\n",
       "      <td>0</td>\n",
       "    </tr>\n",
       "    <tr>\n",
       "      <td>2</td>\n",
       "      <td>(4R)-(-)-carvone</td>\n",
       "      <td>439570</td>\n",
       "      <td>NaN</td>\n",
       "      <td>CC1=CC[C@H](CC1=O)C(=C)C</td>\n",
       "      <td>2.00E+00</td>\n",
       "      <td>ppb</td>\n",
       "      <td>2.00</td>\n",
       "      <td>sweet spearmint, fresh herbal</td>\n",
       "      <td>Rows 122 - 193 are from here: https://github.c...</td>\n",
       "      <td>1</td>\n",
       "    </tr>\n",
       "    <tr>\n",
       "      <td>3</td>\n",
       "      <td>(4S)-(+)-carvone</td>\n",
       "      <td>16724</td>\n",
       "      <td>NaN</td>\n",
       "      <td>CC1=CC[C@@H](CC1=O)C(=C)C</td>\n",
       "      <td>1.30E+02</td>\n",
       "      <td>ppb</td>\n",
       "      <td>130.00</td>\n",
       "      <td>caraway, fresh herbal</td>\n",
       "      <td>Rows 194-223 are from here: https://github.com...</td>\n",
       "      <td>1</td>\n",
       "    </tr>\n",
       "    <tr>\n",
       "      <td>4</td>\n",
       "      <td>(4R,7R)-(+)-galaxolide</td>\n",
       "      <td>14177988</td>\n",
       "      <td>NaN</td>\n",
       "      <td>C[C@H]1COCC2=CC3=C(C=C12)C([C@H](C3(C)C)C)(C)C</td>\n",
       "      <td>4.40E-01</td>\n",
       "      <td>ppb in air</td>\n",
       "      <td>0.44</td>\n",
       "      <td>weak to almost odorless</td>\n",
       "      <td>Rows 224-267 are from here: https://github.com...</td>\n",
       "      <td>2</td>\n",
       "    </tr>\n",
       "    <tr>\n",
       "      <td>...</td>\n",
       "      <td>...</td>\n",
       "      <td>...</td>\n",
       "      <td>...</td>\n",
       "      <td>...</td>\n",
       "      <td>...</td>\n",
       "      <td>...</td>\n",
       "      <td>...</td>\n",
       "      <td>...</td>\n",
       "      <td>...</td>\n",
       "      <td>...</td>\n",
       "    </tr>\n",
       "    <tr>\n",
       "      <td>457</td>\n",
       "      <td>(2S,3R,4E)-3-methyl-4-[(1S,2S,6S,7S)-tricyclo[...</td>\n",
       "      <td>91749106</td>\n",
       "      <td>\"\"</td>\n",
       "      <td>CC(=O)O[C@H]1CC2CC1[C@H]3[C@@H]2CCC3</td>\n",
       "      <td>7.20E+01</td>\n",
       "      <td>ppb</td>\n",
       "      <td>72.00</td>\n",
       "      <td>woody</td>\n",
       "      <td>NaN</td>\n",
       "      <td>228</td>\n",
       "    </tr>\n",
       "    <tr>\n",
       "      <td>458</td>\n",
       "      <td>(2R,3R,4E)-3-methyl-4-[(1R,2R,6R,7R)-tricyclo[...</td>\n",
       "      <td>91749106</td>\n",
       "      <td>\"\"</td>\n",
       "      <td>CC(=O)O[C@H]1CC2CC1[C@H]3[C@@H]2CCC3</td>\n",
       "      <td>1.37E+02</td>\n",
       "      <td>ppb</td>\n",
       "      <td>137.00</td>\n",
       "      <td>sandal(wood), floral</td>\n",
       "      <td>NaN</td>\n",
       "      <td>229</td>\n",
       "    </tr>\n",
       "    <tr>\n",
       "      <td>459</td>\n",
       "      <td>(2S,3S,4E)-3-methyl-4-[(1S,2S,6S,7S)-tricyclo[...</td>\n",
       "      <td>91749106</td>\n",
       "      <td>\"\"</td>\n",
       "      <td>CC(=O)O[C@H]1CC2CC1[C@H]3[C@@H]2CCC3</td>\n",
       "      <td>1.59E+02</td>\n",
       "      <td>ppb</td>\n",
       "      <td>159.00</td>\n",
       "      <td>very weak floral</td>\n",
       "      <td>NaN</td>\n",
       "      <td>229</td>\n",
       "    </tr>\n",
       "    <tr>\n",
       "      <td>460</td>\n",
       "      <td>(2S,3S,4E)-3-methyl-4-[(1R,2R,6R,7R)-tricyclo[...</td>\n",
       "      <td>91749106</td>\n",
       "      <td>\"\"</td>\n",
       "      <td>CC(=O)O[C@H]1CC2CC1[C@H]3[C@@H]2CCC3</td>\n",
       "      <td>4.60E+01</td>\n",
       "      <td>ppb</td>\n",
       "      <td>46.00</td>\n",
       "      <td>strong sandal(wood), floral</td>\n",
       "      <td>NaN</td>\n",
       "      <td>230</td>\n",
       "    </tr>\n",
       "    <tr>\n",
       "      <td>461</td>\n",
       "      <td>(2R,3R,4E)-3-methyl-4-[(1S,2S,6S,7S)-tricyclo[...</td>\n",
       "      <td>91749106</td>\n",
       "      <td>\"\"</td>\n",
       "      <td>CC(=O)O[C@H]1CC2CC1[C@H]3[C@@H]2CCC3</td>\n",
       "      <td>2.04E+02</td>\n",
       "      <td>ppb</td>\n",
       "      <td>204.00</td>\n",
       "      <td>weak floral</td>\n",
       "      <td>'</td>\n",
       "      <td>230</td>\n",
       "    </tr>\n",
       "  </tbody>\n",
       "</table>\n",
       "<p>462 rows × 10 columns</p>\n",
       "</div>"
      ],
      "text/plain": [
       "                                         Molecule Name  Pubchem ID # Note  \\\n",
       "0                                 (R)-(-)-gamma-ionone      11389922  NaN   \n",
       "1                                 (S)-(+)-gamma-ionone      11194862  NaN   \n",
       "2                                     (4R)-(-)-carvone        439570  NaN   \n",
       "3                                     (4S)-(+)-carvone         16724  NaN   \n",
       "4                               (4R,7R)-(+)-galaxolide      14177988  NaN   \n",
       "..                                                 ...           ...  ...   \n",
       "457  (2S,3R,4E)-3-methyl-4-[(1S,2S,6S,7S)-tricyclo[...      91749106   \"\"   \n",
       "458  (2R,3R,4E)-3-methyl-4-[(1R,2R,6R,7R)-tricyclo[...      91749106   \"\"   \n",
       "459  (2S,3S,4E)-3-methyl-4-[(1S,2S,6S,7S)-tricyclo[...      91749106   \"\"   \n",
       "460  (2S,3S,4E)-3-methyl-4-[(1R,2R,6R,7R)-tricyclo[...      91749106   \"\"   \n",
       "461  (2R,3R,4E)-3-methyl-4-[(1S,2S,6S,7S)-tricyclo[...      91749106   \"\"   \n",
       "\n",
       "                                      SMILES String Detection Threshold  \\\n",
       "0                   CC(=O)/C=C/[C@H]1C(=C)CCCC1(C)C            1.10E+01   \n",
       "1                  CC(=O)/C=C/[C@@H]1C(=C)CCCC1(C)C            7.00E-02   \n",
       "2                          CC1=CC[C@H](CC1=O)C(=C)C            2.00E+00   \n",
       "3                         CC1=CC[C@@H](CC1=O)C(=C)C            1.30E+02   \n",
       "4    C[C@H]1COCC2=CC3=C(C=C12)C([C@H](C3(C)C)C)(C)C            4.40E-01   \n",
       "..                                              ...                 ...   \n",
       "457            CC(=O)O[C@H]1CC2CC1[C@H]3[C@@H]2CCC3            7.20E+01   \n",
       "458            CC(=O)O[C@H]1CC2CC1[C@H]3[C@@H]2CCC3            1.37E+02   \n",
       "459            CC(=O)O[C@H]1CC2CC1[C@H]3[C@@H]2CCC3            1.59E+02   \n",
       "460            CC(=O)O[C@H]1CC2CC1[C@H]3[C@@H]2CCC3            4.60E+01   \n",
       "461            CC(=O)O[C@H]1CC2CC1[C@H]3[C@@H]2CCC3            2.04E+02   \n",
       "\n",
       "    Detection Units  Normalized Detection Threshold  \\\n",
       "0         ppb water                           11.00   \n",
       "1         ppb water                            0.07   \n",
       "2               ppb                            2.00   \n",
       "3               ppb                          130.00   \n",
       "4        ppb in air                            0.44   \n",
       "..              ...                             ...   \n",
       "457             ppb                           72.00   \n",
       "458             ppb                          137.00   \n",
       "459             ppb                          159.00   \n",
       "460             ppb                           46.00   \n",
       "461             ppb                          204.00   \n",
       "\n",
       "                                        Molecule Odour  \\\n",
       "0    Weak green, fruity, pineapple-like odor with m...   \n",
       "1    Linear, very pleasant, floral, green, woody od...   \n",
       "2                        sweet spearmint, fresh herbal   \n",
       "3                                caraway, fresh herbal   \n",
       "4                              weak to almost odorless   \n",
       "..                                                 ...   \n",
       "457                                              woody   \n",
       "458                               sandal(wood), floral   \n",
       "459                                   very weak floral   \n",
       "460                        strong sandal(wood), floral   \n",
       "461                                        weak floral   \n",
       "\n",
       "                                             Resources    N  \n",
       "0    Rows 66-100 are from here: https://www.jstage....    0  \n",
       "1    Rows 101-121 are from here: https://github.com...    0  \n",
       "2    Rows 122 - 193 are from here: https://github.c...    1  \n",
       "3    Rows 194-223 are from here: https://github.com...    1  \n",
       "4    Rows 224-267 are from here: https://github.com...    2  \n",
       "..                                                 ...  ...  \n",
       "457                                                NaN  228  \n",
       "458                                                NaN  229  \n",
       "459                                                NaN  229  \n",
       "460                                                NaN  230  \n",
       "461                                                  '  230  \n",
       "\n",
       "[462 rows x 10 columns]"
      ]
     },
     "execution_count": 32,
     "metadata": {},
     "output_type": "execute_result"
    }
   ],
   "source": [
    "coleman_data"
   ]
  },
  {
   "cell_type": "code",
   "execution_count": 33,
   "metadata": {},
   "outputs": [
    {
     "name": "stderr",
     "output_type": "stream",
     "text": [
      "/opt/conda/lib/python3.7/site-packages/ipykernel_launcher.py:2: RuntimeWarning: invalid value encountered in double_scalars\n",
      "  \n",
      "/opt/conda/lib/python3.7/site-packages/ipykernel_launcher.py:2: RuntimeWarning: divide by zero encountered in log10\n",
      "  \n",
      "/opt/conda/lib/python3.7/site-packages/ipykernel_launcher.py:2: RuntimeWarning: divide by zero encountered in double_scalars\n",
      "  \n"
     ]
    }
   ],
   "source": [
    "def log_abs(x):\n",
    "    return np.abs(np.log10(x['Normalized Detection Threshold'].values[1]/x['Normalized Detection Threshold'].values[0]))\n",
    "half_coleman_dt = coleman_data.groupby('N').apply(log_abs)"
   ]
  },
  {
   "cell_type": "code",
   "execution_count": 34,
   "metadata": {},
   "outputs": [],
   "source": [
    "#Need to only index over every other row\n",
    "halfColeman_data = coleman_data.iloc[::2]"
   ]
  },
  {
   "cell_type": "code",
   "execution_count": 35,
   "metadata": {},
   "outputs": [
    {
     "name": "stderr",
     "output_type": "stream",
     "text": [
      "/opt/conda/lib/python3.7/site-packages/ipykernel_launcher.py:1: SettingWithCopyWarning: \n",
      "A value is trying to be set on a copy of a slice from a DataFrame.\n",
      "Try using .loc[row_indexer,col_indexer] = value instead\n",
      "\n",
      "See the caveats in the documentation: http://pandas.pydata.org/pandas-docs/stable/user_guide/indexing.html#returning-a-view-versus-a-copy\n",
      "  \"\"\"Entry point for launching an IPython kernel.\n"
     ]
    }
   ],
   "source": [
    "halfColeman_data['log_abs'] = half_coleman_dt"
   ]
  },
  {
   "cell_type": "code",
   "execution_count": 36,
   "metadata": {},
   "outputs": [
    {
     "data": {
      "text/html": [
       "<div>\n",
       "<style scoped>\n",
       "    .dataframe tbody tr th:only-of-type {\n",
       "        vertical-align: middle;\n",
       "    }\n",
       "\n",
       "    .dataframe tbody tr th {\n",
       "        vertical-align: top;\n",
       "    }\n",
       "\n",
       "    .dataframe thead th {\n",
       "        text-align: right;\n",
       "    }\n",
       "</style>\n",
       "<table border=\"1\" class=\"dataframe\">\n",
       "  <thead>\n",
       "    <tr style=\"text-align: right;\">\n",
       "      <th></th>\n",
       "      <th>Molecule Name</th>\n",
       "      <th>Pubchem ID #</th>\n",
       "      <th>Note</th>\n",
       "      <th>SMILES String</th>\n",
       "      <th>Detection Threshold</th>\n",
       "      <th>Detection Units</th>\n",
       "      <th>Normalized Detection Threshold</th>\n",
       "      <th>Molecule Odour</th>\n",
       "      <th>Resources</th>\n",
       "      <th>N</th>\n",
       "      <th>log_abs</th>\n",
       "    </tr>\n",
       "  </thead>\n",
       "  <tbody>\n",
       "    <tr>\n",
       "      <td>0</td>\n",
       "      <td>(R)-(-)-gamma-ionone</td>\n",
       "      <td>11389922</td>\n",
       "      <td>NaN</td>\n",
       "      <td>CC(=O)/C=C/[C@H]1C(=C)CCCC1(C)C</td>\n",
       "      <td>1.10E+01</td>\n",
       "      <td>ppb water</td>\n",
       "      <td>11.00</td>\n",
       "      <td>Weak green, fruity, pineapple-like odor with m...</td>\n",
       "      <td>Rows 66-100 are from here: https://www.jstage....</td>\n",
       "      <td>0</td>\n",
       "      <td>2.196295</td>\n",
       "    </tr>\n",
       "    <tr>\n",
       "      <td>2</td>\n",
       "      <td>(4R)-(-)-carvone</td>\n",
       "      <td>439570</td>\n",
       "      <td>NaN</td>\n",
       "      <td>CC1=CC[C@H](CC1=O)C(=C)C</td>\n",
       "      <td>2.00E+00</td>\n",
       "      <td>ppb</td>\n",
       "      <td>2.00</td>\n",
       "      <td>sweet spearmint, fresh herbal</td>\n",
       "      <td>Rows 122 - 193 are from here: https://github.c...</td>\n",
       "      <td>1</td>\n",
       "      <td>2.643453</td>\n",
       "    </tr>\n",
       "    <tr>\n",
       "      <td>4</td>\n",
       "      <td>(4R,7R)-(+)-galaxolide</td>\n",
       "      <td>14177988</td>\n",
       "      <td>NaN</td>\n",
       "      <td>C[C@H]1COCC2=CC3=C(C=C12)C([C@H](C3(C)C)C)(C)C</td>\n",
       "      <td>4.40E-01</td>\n",
       "      <td>ppb in air</td>\n",
       "      <td>0.44</td>\n",
       "      <td>weak to almost odorless</td>\n",
       "      <td>Rows 224-267 are from here: https://github.com...</td>\n",
       "      <td>2</td>\n",
       "      <td>0.301030</td>\n",
       "    </tr>\n",
       "    <tr>\n",
       "      <td>6</td>\n",
       "      <td>(4R,4aS,6R)-(+) nootkatone</td>\n",
       "      <td>1268142</td>\n",
       "      <td>NaN</td>\n",
       "      <td>C[C@@H]1CC(=O)C=C2[C@]1(C[C@@H](CC2)C(=C)C)C</td>\n",
       "      <td>1.50E+01</td>\n",
       "      <td>ppm</td>\n",
       "      <td>15000.00</td>\n",
       "      <td>grapefruit odor</td>\n",
       "      <td>Rows 370-407 are from here: https://github.com...</td>\n",
       "      <td>3</td>\n",
       "      <td>NaN</td>\n",
       "    </tr>\n",
       "    <tr>\n",
       "      <td>8</td>\n",
       "      <td>(2S,4R)-(+) cis-2-methyl-4-propyl-1,3-oxathiane</td>\n",
       "      <td>6931728</td>\n",
       "      <td>NaN</td>\n",
       "      <td>CCC[C@@H]1CCO[C@@H](S1)C</td>\n",
       "      <td>2.00E+00</td>\n",
       "      <td>ppb</td>\n",
       "      <td>2.00</td>\n",
       "      <td>\\\\xe2\\\\x80\\\\x9ctypical sulfurous, with a rubbe...</td>\n",
       "      <td>Rows 424-435 are from here: https://github.com...</td>\n",
       "      <td>4</td>\n",
       "      <td>2.920819</td>\n",
       "    </tr>\n",
       "    <tr>\n",
       "      <td>...</td>\n",
       "      <td>...</td>\n",
       "      <td>...</td>\n",
       "      <td>...</td>\n",
       "      <td>...</td>\n",
       "      <td>...</td>\n",
       "      <td>...</td>\n",
       "      <td>...</td>\n",
       "      <td>...</td>\n",
       "      <td>...</td>\n",
       "      <td>...</td>\n",
       "      <td>...</td>\n",
       "    </tr>\n",
       "    <tr>\n",
       "      <td>452</td>\n",
       "      <td>(1S,3S,1\\\\\\'S,2\\\\\\'R,4\\\\\\'S,6\\\\\\'S) (+)-erythr...</td>\n",
       "      <td>0</td>\n",
       "      <td>NaN</td>\n",
       "      <td>NaN</td>\n",
       "      <td>7.00E+00</td>\n",
       "      <td>ppb</td>\n",
       "      <td>7.00</td>\n",
       "      <td>sandalwood like odor without moldy feeling, an...</td>\n",
       "      <td>NaN</td>\n",
       "      <td>226</td>\n",
       "      <td>NaN</td>\n",
       "    </tr>\n",
       "    <tr>\n",
       "      <td>454</td>\n",
       "      <td>(2S,3R,4E)-3-methyl-4-[(1R,2R,6R,7R)-tricyclo[...</td>\n",
       "      <td>91749106</td>\n",
       "      <td>https://pubchem.ncbi.nlm.nih.gov/compound/9174...</td>\n",
       "      <td>CC(=O)O[C@H]1CC2CC1[C@H]3[C@@H]2CCC3</td>\n",
       "      <td>5.00E+00</td>\n",
       "      <td>ppb</td>\n",
       "      <td>5.00</td>\n",
       "      <td>very strong, sandal(wood), animalic</td>\n",
       "      <td>NaN</td>\n",
       "      <td>227</td>\n",
       "      <td>NaN</td>\n",
       "    </tr>\n",
       "    <tr>\n",
       "      <td>456</td>\n",
       "      <td>(2R,3S,4E)-3-methyl-4-[(1R,2R,6R,7R)-tricyclo[...</td>\n",
       "      <td>91749106</td>\n",
       "      <td>\"\"</td>\n",
       "      <td>CC(=O)O[C@H]1CC2CC1[C@H]3[C@@H]2CCC3</td>\n",
       "      <td>7.00E+01</td>\n",
       "      <td>ppb</td>\n",
       "      <td>70.00</td>\n",
       "      <td>sandal(wood), animalic</td>\n",
       "      <td>NaN</td>\n",
       "      <td>228</td>\n",
       "      <td>NaN</td>\n",
       "    </tr>\n",
       "    <tr>\n",
       "      <td>458</td>\n",
       "      <td>(2R,3R,4E)-3-methyl-4-[(1R,2R,6R,7R)-tricyclo[...</td>\n",
       "      <td>91749106</td>\n",
       "      <td>\"\"</td>\n",
       "      <td>CC(=O)O[C@H]1CC2CC1[C@H]3[C@@H]2CCC3</td>\n",
       "      <td>1.37E+02</td>\n",
       "      <td>ppb</td>\n",
       "      <td>137.00</td>\n",
       "      <td>sandal(wood), floral</td>\n",
       "      <td>NaN</td>\n",
       "      <td>229</td>\n",
       "      <td>NaN</td>\n",
       "    </tr>\n",
       "    <tr>\n",
       "      <td>460</td>\n",
       "      <td>(2S,3S,4E)-3-methyl-4-[(1R,2R,6R,7R)-tricyclo[...</td>\n",
       "      <td>91749106</td>\n",
       "      <td>\"\"</td>\n",
       "      <td>CC(=O)O[C@H]1CC2CC1[C@H]3[C@@H]2CCC3</td>\n",
       "      <td>4.60E+01</td>\n",
       "      <td>ppb</td>\n",
       "      <td>46.00</td>\n",
       "      <td>strong sandal(wood), floral</td>\n",
       "      <td>NaN</td>\n",
       "      <td>230</td>\n",
       "      <td>NaN</td>\n",
       "    </tr>\n",
       "  </tbody>\n",
       "</table>\n",
       "<p>231 rows × 11 columns</p>\n",
       "</div>"
      ],
      "text/plain": [
       "                                         Molecule Name  Pubchem ID #  \\\n",
       "0                                 (R)-(-)-gamma-ionone      11389922   \n",
       "2                                     (4R)-(-)-carvone        439570   \n",
       "4                               (4R,7R)-(+)-galaxolide      14177988   \n",
       "6                           (4R,4aS,6R)-(+) nootkatone       1268142   \n",
       "8      (2S,4R)-(+) cis-2-methyl-4-propyl-1,3-oxathiane       6931728   \n",
       "..                                                 ...           ...   \n",
       "452  (1S,3S,1\\\\\\'S,2\\\\\\'R,4\\\\\\'S,6\\\\\\'S) (+)-erythr...             0   \n",
       "454  (2S,3R,4E)-3-methyl-4-[(1R,2R,6R,7R)-tricyclo[...      91749106   \n",
       "456  (2R,3S,4E)-3-methyl-4-[(1R,2R,6R,7R)-tricyclo[...      91749106   \n",
       "458  (2R,3R,4E)-3-methyl-4-[(1R,2R,6R,7R)-tricyclo[...      91749106   \n",
       "460  (2S,3S,4E)-3-methyl-4-[(1R,2R,6R,7R)-tricyclo[...      91749106   \n",
       "\n",
       "                                                  Note  \\\n",
       "0                                                  NaN   \n",
       "2                                                  NaN   \n",
       "4                                                  NaN   \n",
       "6                                                  NaN   \n",
       "8                                                  NaN   \n",
       "..                                                 ...   \n",
       "452                                                NaN   \n",
       "454  https://pubchem.ncbi.nlm.nih.gov/compound/9174...   \n",
       "456                                                 \"\"   \n",
       "458                                                 \"\"   \n",
       "460                                                 \"\"   \n",
       "\n",
       "                                      SMILES String Detection Threshold  \\\n",
       "0                   CC(=O)/C=C/[C@H]1C(=C)CCCC1(C)C            1.10E+01   \n",
       "2                          CC1=CC[C@H](CC1=O)C(=C)C            2.00E+00   \n",
       "4    C[C@H]1COCC2=CC3=C(C=C12)C([C@H](C3(C)C)C)(C)C            4.40E-01   \n",
       "6      C[C@@H]1CC(=O)C=C2[C@]1(C[C@@H](CC2)C(=C)C)C            1.50E+01   \n",
       "8                          CCC[C@@H]1CCO[C@@H](S1)C            2.00E+00   \n",
       "..                                              ...                 ...   \n",
       "452                                             NaN            7.00E+00   \n",
       "454            CC(=O)O[C@H]1CC2CC1[C@H]3[C@@H]2CCC3            5.00E+00   \n",
       "456            CC(=O)O[C@H]1CC2CC1[C@H]3[C@@H]2CCC3            7.00E+01   \n",
       "458            CC(=O)O[C@H]1CC2CC1[C@H]3[C@@H]2CCC3            1.37E+02   \n",
       "460            CC(=O)O[C@H]1CC2CC1[C@H]3[C@@H]2CCC3            4.60E+01   \n",
       "\n",
       "    Detection Units  Normalized Detection Threshold  \\\n",
       "0         ppb water                           11.00   \n",
       "2               ppb                            2.00   \n",
       "4        ppb in air                            0.44   \n",
       "6               ppm                        15000.00   \n",
       "8               ppb                            2.00   \n",
       "..              ...                             ...   \n",
       "452             ppb                            7.00   \n",
       "454             ppb                            5.00   \n",
       "456             ppb                           70.00   \n",
       "458             ppb                          137.00   \n",
       "460             ppb                           46.00   \n",
       "\n",
       "                                        Molecule Odour  \\\n",
       "0    Weak green, fruity, pineapple-like odor with m...   \n",
       "2                        sweet spearmint, fresh herbal   \n",
       "4                              weak to almost odorless   \n",
       "6                                      grapefruit odor   \n",
       "8    \\\\xe2\\\\x80\\\\x9ctypical sulfurous, with a rubbe...   \n",
       "..                                                 ...   \n",
       "452  sandalwood like odor without moldy feeling, an...   \n",
       "454                very strong, sandal(wood), animalic   \n",
       "456                             sandal(wood), animalic   \n",
       "458                               sandal(wood), floral   \n",
       "460                        strong sandal(wood), floral   \n",
       "\n",
       "                                             Resources    N   log_abs  \n",
       "0    Rows 66-100 are from here: https://www.jstage....    0  2.196295  \n",
       "2    Rows 122 - 193 are from here: https://github.c...    1  2.643453  \n",
       "4    Rows 224-267 are from here: https://github.com...    2  0.301030  \n",
       "6    Rows 370-407 are from here: https://github.com...    3       NaN  \n",
       "8    Rows 424-435 are from here: https://github.com...    4  2.920819  \n",
       "..                                                 ...  ...       ...  \n",
       "452                                                NaN  226       NaN  \n",
       "454                                                NaN  227       NaN  \n",
       "456                                                NaN  228       NaN  \n",
       "458                                                NaN  229       NaN  \n",
       "460                                                NaN  230       NaN  \n",
       "\n",
       "[231 rows x 11 columns]"
      ]
     },
     "execution_count": 36,
     "metadata": {},
     "output_type": "execute_result"
    }
   ],
   "source": [
    "halfColeman_data"
   ]
  },
  {
   "cell_type": "code",
   "execution_count": 52,
   "metadata": {},
   "outputs": [
    {
     "data": {
      "text/plain": [
       "0"
      ]
     },
     "execution_count": 52,
     "metadata": {},
     "output_type": "execute_result"
    }
   ],
   "source": [
    "#halfColeman_data['SMILES String'].str.contains('nan').sum()"
   ]
  },
  {
   "cell_type": "code",
   "execution_count": 76,
   "metadata": {},
   "outputs": [
    {
     "data": {
      "text/html": [
       "<div>\n",
       "<style scoped>\n",
       "    .dataframe tbody tr th:only-of-type {\n",
       "        vertical-align: middle;\n",
       "    }\n",
       "\n",
       "    .dataframe tbody tr th {\n",
       "        vertical-align: top;\n",
       "    }\n",
       "\n",
       "    .dataframe thead th {\n",
       "        text-align: right;\n",
       "    }\n",
       "</style>\n",
       "<table border=\"1\" class=\"dataframe\">\n",
       "  <thead>\n",
       "    <tr style=\"text-align: right;\">\n",
       "      <th></th>\n",
       "      <th>Molecule Name</th>\n",
       "      <th>Pubchem ID #</th>\n",
       "      <th>Note</th>\n",
       "      <th>SMILES String</th>\n",
       "      <th>Detection Threshold</th>\n",
       "      <th>Detection Units</th>\n",
       "      <th>Normalized Detection Threshold</th>\n",
       "      <th>Molecule Odour</th>\n",
       "      <th>Resources</th>\n",
       "      <th>N</th>\n",
       "      <th>log_abs</th>\n",
       "    </tr>\n",
       "  </thead>\n",
       "  <tbody>\n",
       "    <tr>\n",
       "      <td>0</td>\n",
       "      <td>(R)-(-)-gamma-ionone</td>\n",
       "      <td>11389922</td>\n",
       "      <td>NaN</td>\n",
       "      <td>CC(=O)/C=C/[C@H]1C(=C)CCCC1(C)C</td>\n",
       "      <td>1.10E+01</td>\n",
       "      <td>ppb water</td>\n",
       "      <td>11.00</td>\n",
       "      <td>Weak green, fruity, pineapple-like odor with m...</td>\n",
       "      <td>Rows 66-100 are from here: https://www.jstage....</td>\n",
       "      <td>0</td>\n",
       "      <td>2.196295</td>\n",
       "    </tr>\n",
       "    <tr>\n",
       "      <td>2</td>\n",
       "      <td>(4R)-(-)-carvone</td>\n",
       "      <td>439570</td>\n",
       "      <td>NaN</td>\n",
       "      <td>CC1=CC[C@H](CC1=O)C(=C)C</td>\n",
       "      <td>2.00E+00</td>\n",
       "      <td>ppb</td>\n",
       "      <td>2.00</td>\n",
       "      <td>sweet spearmint, fresh herbal</td>\n",
       "      <td>Rows 122 - 193 are from here: https://github.c...</td>\n",
       "      <td>1</td>\n",
       "      <td>2.643453</td>\n",
       "    </tr>\n",
       "    <tr>\n",
       "      <td>4</td>\n",
       "      <td>(4R,7R)-(+)-galaxolide</td>\n",
       "      <td>14177988</td>\n",
       "      <td>NaN</td>\n",
       "      <td>C[C@H]1COCC2=CC3=C(C=C12)C([C@H](C3(C)C)C)(C)C</td>\n",
       "      <td>4.40E-01</td>\n",
       "      <td>ppb in air</td>\n",
       "      <td>0.44</td>\n",
       "      <td>weak to almost odorless</td>\n",
       "      <td>Rows 224-267 are from here: https://github.com...</td>\n",
       "      <td>2</td>\n",
       "      <td>0.301030</td>\n",
       "    </tr>\n",
       "    <tr>\n",
       "      <td>6</td>\n",
       "      <td>(4R,4aS,6R)-(+) nootkatone</td>\n",
       "      <td>1268142</td>\n",
       "      <td>NaN</td>\n",
       "      <td>C[C@@H]1CC(=O)C=C2[C@]1(C[C@@H](CC2)C(=C)C)C</td>\n",
       "      <td>1.50E+01</td>\n",
       "      <td>ppm</td>\n",
       "      <td>15000.00</td>\n",
       "      <td>grapefruit odor</td>\n",
       "      <td>Rows 370-407 are from here: https://github.com...</td>\n",
       "      <td>3</td>\n",
       "      <td>NaN</td>\n",
       "    </tr>\n",
       "    <tr>\n",
       "      <td>8</td>\n",
       "      <td>(2S,4R)-(+) cis-2-methyl-4-propyl-1,3-oxathiane</td>\n",
       "      <td>6931728</td>\n",
       "      <td>NaN</td>\n",
       "      <td>CCC[C@@H]1CCO[C@@H](S1)C</td>\n",
       "      <td>2.00E+00</td>\n",
       "      <td>ppb</td>\n",
       "      <td>2.00</td>\n",
       "      <td>\\\\xe2\\\\x80\\\\x9ctypical sulfurous, with a rubbe...</td>\n",
       "      <td>Rows 424-435 are from here: https://github.com...</td>\n",
       "      <td>4</td>\n",
       "      <td>2.920819</td>\n",
       "    </tr>\n",
       "  </tbody>\n",
       "</table>\n",
       "</div>"
      ],
      "text/plain": [
       "                                     Molecule Name  Pubchem ID # Note  \\\n",
       "0                             (R)-(-)-gamma-ionone      11389922  NaN   \n",
       "2                                 (4R)-(-)-carvone        439570  NaN   \n",
       "4                           (4R,7R)-(+)-galaxolide      14177988  NaN   \n",
       "6                       (4R,4aS,6R)-(+) nootkatone       1268142  NaN   \n",
       "8  (2S,4R)-(+) cis-2-methyl-4-propyl-1,3-oxathiane       6931728  NaN   \n",
       "\n",
       "                                    SMILES String Detection Threshold  \\\n",
       "0                 CC(=O)/C=C/[C@H]1C(=C)CCCC1(C)C            1.10E+01   \n",
       "2                        CC1=CC[C@H](CC1=O)C(=C)C            2.00E+00   \n",
       "4  C[C@H]1COCC2=CC3=C(C=C12)C([C@H](C3(C)C)C)(C)C            4.40E-01   \n",
       "6    C[C@@H]1CC(=O)C=C2[C@]1(C[C@@H](CC2)C(=C)C)C            1.50E+01   \n",
       "8                        CCC[C@@H]1CCO[C@@H](S1)C            2.00E+00   \n",
       "\n",
       "  Detection Units  Normalized Detection Threshold  \\\n",
       "0       ppb water                           11.00   \n",
       "2             ppb                            2.00   \n",
       "4      ppb in air                            0.44   \n",
       "6             ppm                        15000.00   \n",
       "8             ppb                            2.00   \n",
       "\n",
       "                                      Molecule Odour  \\\n",
       "0  Weak green, fruity, pineapple-like odor with m...   \n",
       "2                      sweet spearmint, fresh herbal   \n",
       "4                            weak to almost odorless   \n",
       "6                                    grapefruit odor   \n",
       "8  \\\\xe2\\\\x80\\\\x9ctypical sulfurous, with a rubbe...   \n",
       "\n",
       "                                           Resources  N   log_abs  \n",
       "0  Rows 66-100 are from here: https://www.jstage....  0  2.196295  \n",
       "2  Rows 122 - 193 are from here: https://github.c...  1  2.643453  \n",
       "4  Rows 224-267 are from here: https://github.com...  2  0.301030  \n",
       "6  Rows 370-407 are from here: https://github.com...  3       NaN  \n",
       "8  Rows 424-435 are from here: https://github.com...  4  2.920819  "
      ]
     },
     "execution_count": 76,
     "metadata": {},
     "output_type": "execute_result"
    }
   ],
   "source": [
    "halfColeman_data = halfColeman_data.drop_duplicates(subset=['SMILES String'])\n",
    "halfColeman_data = halfColeman_data[~halfColeman_data['SMILES String'].str.contains('NaN', na=True)]\n",
    "halfColeman_data.head()"
   ]
  },
  {
   "cell_type": "code",
   "execution_count": 64,
   "metadata": {},
   "outputs": [],
   "source": [
    "assert halfColeman_data['SMILES String'].shape == halfColeman_data['SMILES String'].unique().shape, \"Number of SMILES strings should equal number of unique SMILES strings at this stage\""
   ]
  },
  {
   "cell_type": "code",
   "execution_count": 65,
   "metadata": {},
   "outputs": [],
   "source": [
    "assert sum(halfColeman_data['SMILES String']=='nan') == 0, \"There should be no NaN SMILES strings at this point\""
   ]
  },
  {
   "cell_type": "code",
   "execution_count": 66,
   "metadata": {},
   "outputs": [],
   "source": [
    "# Compute Morgan features for DREAM molecules\n",
    "#all_smiles = list(set(dream_smiles + shadmany_smiles))\n",
    "#commenting everything out for now:\n",
    "# dream_smiles = a.get_dream_smiles(coleman_data[\"Pubchem ID #\"])\n",
    "# all_smiles = list(set(dream_smiles + coleman_smiles))\n",
    "# morgan_sim_all = a.smiles_to_morgan_sim(all_smiles,all_smiles)"
   ]
  },
  {
   "cell_type": "code",
   "execution_count": 67,
   "metadata": {},
   "outputs": [],
   "source": [
    "# Compute NSPDK features for DREAM molecules\n",
    "#if a.HAS_OBABEL:\n",
    "#    nspdk_all = a.smiles_to_nspdk(all_smiles)\n",
    "#else:\n",
    "#    nspdk_all = []"
   ]
  },
  {
   "cell_type": "code",
   "execution_count": 103,
   "metadata": {},
   "outputs": [
    {
     "data": {
      "text/plain": [
       "Molecule Name                     (4S)-(-)-trans-limonene-1,2-oxide\n",
       "Pubchem ID #                                               53713586\n",
       "Note                                                            NaN\n",
       "SMILES String                         CC(=C)C1CC[C@]2([C@H](C1)O2)C\n",
       "Detection Threshold                                        0.00E+00\n",
       "Detection Units                                                 ppb\n",
       "Normalized Detection Threshold                                    0\n",
       "Molecule Odour                                                  NaN\n",
       "Resources                                                       NaN\n",
       "N                                                                40\n",
       "log_abs                                                           0\n",
       "Name: 80, dtype: object"
      ]
     },
     "execution_count": 103,
     "metadata": {},
     "output_type": "execute_result"
    }
   ],
   "source": [
    "#print([x for x in halfColeman_data[\"SMILES String\"] if type(x) == float])\n",
    "halfColeman_data.iloc[39]"
   ]
  },
  {
   "cell_type": "code",
   "execution_count": 104,
   "metadata": {},
   "outputs": [
    {
     "name": "stdout",
     "output_type": "stream",
     "text": [
      "Convering SMILES string to Mol format...\n",
      "Computing 3D coordinates...\n",
      "Removing CC(=C)C1CC[C@]2([C@H](C1)O2)C due to failed embedding\n",
      "Computing Mordred features...\n"
     ]
    },
    {
     "name": "stderr",
     "output_type": "stream",
     "text": [
      " 72%|███████▏  | 134/186 [00:07<00:29,  1.78it/s]"
     ]
    },
    {
     "name": "stdout",
     "output_type": "stream",
     "text": [
      "/opt/conda/lib/python3.7/site-packages/numpy/core/fromnumeric.py:90: RuntimeWarning: overflow encountered in reduce\n",
      "  return ufunc.reduce(obj, axis, dtype, out, **passkwargs)\n"
     ]
    },
    {
     "name": "stderr",
     "output_type": "stream",
     "text": [
      "100%|██████████| 186/186 [00:07<00:00, 23.43it/s]\n"
     ]
    },
    {
     "name": "stdout",
     "output_type": "stream",
     "text": [
      "There are 186 molecules and 1826 features\n"
     ]
    }
   ],
   "source": [
    "mordred_all = a.smiles_to_mordred(halfColeman_data['SMILES String'].values)"
   ]
  },
  {
   "cell_type": "code",
   "execution_count": 109,
   "metadata": {},
   "outputs": [
    {
     "data": {
      "text/plain": [
       "(187, 11)"
      ]
     },
     "execution_count": 109,
     "metadata": {},
     "output_type": "execute_result"
    }
   ],
   "source": [
    "halfColeman_data.shape"
   ]
  },
  {
   "cell_type": "code",
   "execution_count": 108,
   "metadata": {},
   "outputs": [
    {
     "data": {
      "text/plain": [
       "(185, 1826)"
      ]
     },
     "execution_count": 108,
     "metadata": {},
     "output_type": "execute_result"
    }
   ],
   "source": [
    "mordred_all.shape"
   ]
  },
  {
   "cell_type": "code",
   "execution_count": 117,
   "metadata": {},
   "outputs": [],
   "source": [
    "#Check this because I don't think the row number is not correct\n",
    "all_data = halfColeman_data.set_index('SMILES String').join(mordred_all, how='inner')"
   ]
  },
  {
   "cell_type": "code",
   "execution_count": 118,
   "metadata": {},
   "outputs": [
    {
     "data": {
      "text/html": [
       "<div>\n",
       "<style scoped>\n",
       "    .dataframe tbody tr th:only-of-type {\n",
       "        vertical-align: middle;\n",
       "    }\n",
       "\n",
       "    .dataframe tbody tr th {\n",
       "        vertical-align: top;\n",
       "    }\n",
       "\n",
       "    .dataframe thead th {\n",
       "        text-align: right;\n",
       "    }\n",
       "</style>\n",
       "<table border=\"1\" class=\"dataframe\">\n",
       "  <thead>\n",
       "    <tr style=\"text-align: right;\">\n",
       "      <th></th>\n",
       "      <th>Molecule Name</th>\n",
       "      <th>Pubchem ID #</th>\n",
       "      <th>Note</th>\n",
       "      <th>Detection Threshold</th>\n",
       "      <th>Detection Units</th>\n",
       "      <th>Normalized Detection Threshold</th>\n",
       "      <th>Molecule Odour</th>\n",
       "      <th>Resources</th>\n",
       "      <th>N</th>\n",
       "      <th>log_abs</th>\n",
       "      <th>...</th>\n",
       "      <th>SRW10</th>\n",
       "      <th>TSRW10</th>\n",
       "      <th>MW</th>\n",
       "      <th>AMW</th>\n",
       "      <th>WPath</th>\n",
       "      <th>WPol</th>\n",
       "      <th>Zagreb1</th>\n",
       "      <th>Zagreb2</th>\n",
       "      <th>mZagreb1</th>\n",
       "      <th>mZagreb2</th>\n",
       "    </tr>\n",
       "  </thead>\n",
       "  <tbody>\n",
       "    <tr>\n",
       "      <td>CC(=O)/C=C/[C@H]1C(=C)CCCC1(C)C</td>\n",
       "      <td>(R)-(-)-gamma-ionone</td>\n",
       "      <td>11389922</td>\n",
       "      <td>NaN</td>\n",
       "      <td>1.10E+01</td>\n",
       "      <td>ppb water</td>\n",
       "      <td>11.00</td>\n",
       "      <td>Weak green, fruity, pineapple-like odor with m...</td>\n",
       "      <td>Rows 66-100 are from here: https://www.jstage....</td>\n",
       "      <td>0</td>\n",
       "      <td>2.196295</td>\n",
       "      <td>...</td>\n",
       "      <td>9.50144</td>\n",
       "      <td>45.5963</td>\n",
       "      <td>192.151</td>\n",
       "      <td>5.65151</td>\n",
       "      <td>301</td>\n",
       "      <td>19</td>\n",
       "      <td>68</td>\n",
       "      <td>76</td>\n",
       "      <td>6.64583</td>\n",
       "      <td>3.06944</td>\n",
       "    </tr>\n",
       "    <tr>\n",
       "      <td>CC1=CC[C@H](CC1=O)C(=C)C</td>\n",
       "      <td>(4R)-(-)-carvone</td>\n",
       "      <td>439570</td>\n",
       "      <td>NaN</td>\n",
       "      <td>2.00E+00</td>\n",
       "      <td>ppb</td>\n",
       "      <td>2.00</td>\n",
       "      <td>sweet spearmint, fresh herbal</td>\n",
       "      <td>Rows 122 - 193 are from here: https://github.c...</td>\n",
       "      <td>1</td>\n",
       "      <td>2.643453</td>\n",
       "      <td>...</td>\n",
       "      <td>9.07142</td>\n",
       "      <td>40.9913</td>\n",
       "      <td>150.104</td>\n",
       "      <td>6.00418</td>\n",
       "      <td>152</td>\n",
       "      <td>14</td>\n",
       "      <td>52</td>\n",
       "      <td>58</td>\n",
       "      <td>5.19444</td>\n",
       "      <td>2.47222</td>\n",
       "    </tr>\n",
       "    <tr>\n",
       "      <td>C[C@H]1COCC2=CC3=C(C=C12)C([C@H](C3(C)C)C)(C)C</td>\n",
       "      <td>(4R,7R)-(+)-galaxolide</td>\n",
       "      <td>14177988</td>\n",
       "      <td>NaN</td>\n",
       "      <td>4.40E-01</td>\n",
       "      <td>ppb in air</td>\n",
       "      <td>0.44</td>\n",
       "      <td>weak to almost odorless</td>\n",
       "      <td>Rows 224-267 are from here: https://github.com...</td>\n",
       "      <td>2</td>\n",
       "      <td>0.301030</td>\n",
       "      <td>...</td>\n",
       "      <td>10.3832</td>\n",
       "      <td>68.8592</td>\n",
       "      <td>258.198</td>\n",
       "      <td>5.73774</td>\n",
       "      <td>595</td>\n",
       "      <td>39</td>\n",
       "      <td>112</td>\n",
       "      <td>141</td>\n",
       "      <td>8.04167</td>\n",
       "      <td>3.83333</td>\n",
       "    </tr>\n",
       "    <tr>\n",
       "      <td>C[C@@H]1CC(=O)C=C2[C@]1(C[C@@H](CC2)C(=C)C)C</td>\n",
       "      <td>(4R,4aS,6R)-(+) nootkatone</td>\n",
       "      <td>1268142</td>\n",
       "      <td>NaN</td>\n",
       "      <td>1.50E+01</td>\n",
       "      <td>ppm</td>\n",
       "      <td>15000.00</td>\n",
       "      <td>grapefruit odor</td>\n",
       "      <td>Rows 370-407 are from here: https://github.com...</td>\n",
       "      <td>3</td>\n",
       "      <td>NaN</td>\n",
       "      <td>...</td>\n",
       "      <td>9.97883</td>\n",
       "      <td>49.2196</td>\n",
       "      <td>218.167</td>\n",
       "      <td>5.74124</td>\n",
       "      <td>397</td>\n",
       "      <td>28</td>\n",
       "      <td>86</td>\n",
       "      <td>103</td>\n",
       "      <td>6.86806</td>\n",
       "      <td>3.40278</td>\n",
       "    </tr>\n",
       "    <tr>\n",
       "      <td>CCC[C@@H]1CCO[C@@H](S1)C</td>\n",
       "      <td>(2S,4R)-(+) cis-2-methyl-4-propyl-1,3-oxathiane</td>\n",
       "      <td>6931728</td>\n",
       "      <td>NaN</td>\n",
       "      <td>2.00E+00</td>\n",
       "      <td>ppb</td>\n",
       "      <td>2.00</td>\n",
       "      <td>\\\\xe2\\\\x80\\\\x9ctypical sulfurous, with a rubbe...</td>\n",
       "      <td>Rows 424-435 are from here: https://github.com...</td>\n",
       "      <td>4</td>\n",
       "      <td>2.920819</td>\n",
       "      <td>...</td>\n",
       "      <td>8.66751</td>\n",
       "      <td>38.7042</td>\n",
       "      <td>160.092</td>\n",
       "      <td>6.15739</td>\n",
       "      <td>124</td>\n",
       "      <td>10</td>\n",
       "      <td>44</td>\n",
       "      <td>47</td>\n",
       "      <td>3.72222</td>\n",
       "      <td>2.41667</td>\n",
       "    </tr>\n",
       "    <tr>\n",
       "      <td>...</td>\n",
       "      <td>...</td>\n",
       "      <td>...</td>\n",
       "      <td>...</td>\n",
       "      <td>...</td>\n",
       "      <td>...</td>\n",
       "      <td>...</td>\n",
       "      <td>...</td>\n",
       "      <td>...</td>\n",
       "      <td>...</td>\n",
       "      <td>...</td>\n",
       "      <td>...</td>\n",
       "      <td>...</td>\n",
       "      <td>...</td>\n",
       "      <td>...</td>\n",
       "      <td>...</td>\n",
       "      <td>...</td>\n",
       "      <td>...</td>\n",
       "      <td>...</td>\n",
       "      <td>...</td>\n",
       "      <td>...</td>\n",
       "      <td>...</td>\n",
       "    </tr>\n",
       "    <tr>\n",
       "      <td>C[C@@H]1CC(=O)C[C@H]2[C@]1(C[C@@H](CC2)C(=C)C)C</td>\n",
       "      <td>(+)-8-Dehydro-11,12-dihydronootkatone</td>\n",
       "      <td>71587038</td>\n",
       "      <td>http://www.thegoodscentscompany.com/data/rw103...</td>\n",
       "      <td>5000-10000</td>\n",
       "      <td>NaN</td>\n",
       "      <td>NaN</td>\n",
       "      <td>On an odor rating scale: fresh, green, sour, d...</td>\n",
       "      <td>NaN</td>\n",
       "      <td>217</td>\n",
       "      <td>NaN</td>\n",
       "      <td>...</td>\n",
       "      <td>9.97883</td>\n",
       "      <td>49.2196</td>\n",
       "      <td>220.183</td>\n",
       "      <td>5.50457</td>\n",
       "      <td>397</td>\n",
       "      <td>28</td>\n",
       "      <td>86</td>\n",
       "      <td>103</td>\n",
       "      <td>6.86806</td>\n",
       "      <td>3.40278</td>\n",
       "    </tr>\n",
       "    <tr>\n",
       "      <td>C[C@]12CC[C@H]3[C@H]([C@@H]1CC=C2)CC[C@@H]4[C@@]3(CCC(=O)C4)C</td>\n",
       "      <td>(+)-androstenone</td>\n",
       "      <td>6852393</td>\n",
       "      <td>NaN</td>\n",
       "      <td>1.80E-01</td>\n",
       "      <td>ppb</td>\n",
       "      <td>NaN</td>\n",
       "      <td>strong urine odor</td>\n",
       "      <td>NaN</td>\n",
       "      <td>219</td>\n",
       "      <td>NaN</td>\n",
       "      <td>...</td>\n",
       "      <td>10.4599</td>\n",
       "      <td>69.1263</td>\n",
       "      <td>272.214</td>\n",
       "      <td>5.67113</td>\n",
       "      <td>699</td>\n",
       "      <td>40</td>\n",
       "      <td>120</td>\n",
       "      <td>151</td>\n",
       "      <td>6.18056</td>\n",
       "      <td>4.09722</td>\n",
       "    </tr>\n",
       "    <tr>\n",
       "      <td>CC/C(=C\\\\CC1CC=C(C1(C)C)C)/CO</td>\n",
       "      <td>(1\\\\\\'R,E)-(+)-2-Methyl-4-(2\\\\\\',2\\\\\\',3\\\\\\'-t...</td>\n",
       "      <td>6438196</td>\n",
       "      <td>http://www.thegoodscentscompany.com/data/rw100...</td>\n",
       "      <td>5.40E+01</td>\n",
       "      <td>ppb</td>\n",
       "      <td>NaN</td>\n",
       "      <td>fresh and strong sandalwood oil odor associate...</td>\n",
       "      <td>NaN</td>\n",
       "      <td>221</td>\n",
       "      <td>NaN</td>\n",
       "      <td>...</td>\n",
       "      <td>9.50084</td>\n",
       "      <td>61.0253</td>\n",
       "      <td>208.183</td>\n",
       "      <td>5.33802</td>\n",
       "      <td>387</td>\n",
       "      <td>21</td>\n",
       "      <td>72</td>\n",
       "      <td>83</td>\n",
       "      <td>6.89583</td>\n",
       "      <td>3.5</td>\n",
       "    </tr>\n",
       "    <tr>\n",
       "      <td>CC1=CC[C@H](C1(C)C)CC[C@@H](C)CO</td>\n",
       "      <td>(-)-(2R)-2-methyl-4-[(1R)-2,2,3-trimethylcyclo...</td>\n",
       "      <td>1747970</td>\n",
       "      <td>NaN</td>\n",
       "      <td>1.87E+01</td>\n",
       "      <td>ppb</td>\n",
       "      <td>NaN</td>\n",
       "      <td>peculiar sandalwood\\\\\\'s strongly excellent smell</td>\n",
       "      <td>NaN</td>\n",
       "      <td>223</td>\n",
       "      <td>NaN</td>\n",
       "      <td>...</td>\n",
       "      <td>9.45399</td>\n",
       "      <td>59.7573</td>\n",
       "      <td>196.183</td>\n",
       "      <td>5.1627</td>\n",
       "      <td>317</td>\n",
       "      <td>19</td>\n",
       "      <td>68</td>\n",
       "      <td>78</td>\n",
       "      <td>6.64583</td>\n",
       "      <td>3.16667</td>\n",
       "    </tr>\n",
       "    <tr>\n",
       "      <td>CC(=O)O[C@H]1CC2CC1[C@H]3[C@@H]2CCC3</td>\n",
       "      <td>(2S,3R,4E)-3-methyl-4-[(1R,2R,6R,7R)-tricyclo[...</td>\n",
       "      <td>91749106</td>\n",
       "      <td>https://pubchem.ncbi.nlm.nih.gov/compound/9174...</td>\n",
       "      <td>5.00E+00</td>\n",
       "      <td>ppb</td>\n",
       "      <td>NaN</td>\n",
       "      <td>very strong, sandal(wood), animalic</td>\n",
       "      <td>NaN</td>\n",
       "      <td>227</td>\n",
       "      <td>NaN</td>\n",
       "      <td>...</td>\n",
       "      <td>9.80494</td>\n",
       "      <td>63.8478</td>\n",
       "      <td>194.131</td>\n",
       "      <td>6.06658</td>\n",
       "      <td>285</td>\n",
       "      <td>17</td>\n",
       "      <td>80</td>\n",
       "      <td>98</td>\n",
       "      <td>4.16667</td>\n",
       "      <td>2.94444</td>\n",
       "    </tr>\n",
       "  </tbody>\n",
       "</table>\n",
       "<p>185 rows × 1836 columns</p>\n",
       "</div>"
      ],
      "text/plain": [
       "                                                                                        Molecule Name  \\\n",
       "CC(=O)/C=C/[C@H]1C(=C)CCCC1(C)C                                                  (R)-(-)-gamma-ionone   \n",
       "CC1=CC[C@H](CC1=O)C(=C)C                                                             (4R)-(-)-carvone   \n",
       "C[C@H]1COCC2=CC3=C(C=C12)C([C@H](C3(C)C)C)(C)C                                 (4R,7R)-(+)-galaxolide   \n",
       "C[C@@H]1CC(=O)C=C2[C@]1(C[C@@H](CC2)C(=C)C)C                               (4R,4aS,6R)-(+) nootkatone   \n",
       "CCC[C@@H]1CCO[C@@H](S1)C                              (2S,4R)-(+) cis-2-methyl-4-propyl-1,3-oxathiane   \n",
       "...                                                                                               ...   \n",
       "C[C@@H]1CC(=O)C[C@H]2[C@]1(C[C@@H](CC2)C(=C)C)C                 (+)-8-Dehydro-11,12-dihydronootkatone   \n",
       "C[C@]12CC[C@H]3[C@H]([C@@H]1CC=C2)CC[C@@H]4[C@@...                                   (+)-androstenone   \n",
       "CC/C(=C\\\\CC1CC=C(C1(C)C)C)/CO                       (1\\\\\\'R,E)-(+)-2-Methyl-4-(2\\\\\\',2\\\\\\',3\\\\\\'-t...   \n",
       "CC1=CC[C@H](C1(C)C)CC[C@@H](C)CO                    (-)-(2R)-2-methyl-4-[(1R)-2,2,3-trimethylcyclo...   \n",
       "CC(=O)O[C@H]1CC2CC1[C@H]3[C@@H]2CCC3                (2S,3R,4E)-3-methyl-4-[(1R,2R,6R,7R)-tricyclo[...   \n",
       "\n",
       "                                                    Pubchem ID #  \\\n",
       "CC(=O)/C=C/[C@H]1C(=C)CCCC1(C)C                         11389922   \n",
       "CC1=CC[C@H](CC1=O)C(=C)C                                  439570   \n",
       "C[C@H]1COCC2=CC3=C(C=C12)C([C@H](C3(C)C)C)(C)C          14177988   \n",
       "C[C@@H]1CC(=O)C=C2[C@]1(C[C@@H](CC2)C(=C)C)C             1268142   \n",
       "CCC[C@@H]1CCO[C@@H](S1)C                                 6931728   \n",
       "...                                                          ...   \n",
       "C[C@@H]1CC(=O)C[C@H]2[C@]1(C[C@@H](CC2)C(=C)C)C         71587038   \n",
       "C[C@]12CC[C@H]3[C@H]([C@@H]1CC=C2)CC[C@@H]4[C@@...       6852393   \n",
       "CC/C(=C\\\\CC1CC=C(C1(C)C)C)/CO                            6438196   \n",
       "CC1=CC[C@H](C1(C)C)CC[C@@H](C)CO                         1747970   \n",
       "CC(=O)O[C@H]1CC2CC1[C@H]3[C@@H]2CCC3                    91749106   \n",
       "\n",
       "                                                                                                 Note  \\\n",
       "CC(=O)/C=C/[C@H]1C(=C)CCCC1(C)C                                                                   NaN   \n",
       "CC1=CC[C@H](CC1=O)C(=C)C                                                                          NaN   \n",
       "C[C@H]1COCC2=CC3=C(C=C12)C([C@H](C3(C)C)C)(C)C                                                    NaN   \n",
       "C[C@@H]1CC(=O)C=C2[C@]1(C[C@@H](CC2)C(=C)C)C                                                      NaN   \n",
       "CCC[C@@H]1CCO[C@@H](S1)C                                                                          NaN   \n",
       "...                                                                                               ...   \n",
       "C[C@@H]1CC(=O)C[C@H]2[C@]1(C[C@@H](CC2)C(=C)C)C     http://www.thegoodscentscompany.com/data/rw103...   \n",
       "C[C@]12CC[C@H]3[C@H]([C@@H]1CC=C2)CC[C@@H]4[C@@...                                                NaN   \n",
       "CC/C(=C\\\\CC1CC=C(C1(C)C)C)/CO                       http://www.thegoodscentscompany.com/data/rw100...   \n",
       "CC1=CC[C@H](C1(C)C)CC[C@@H](C)CO                                                                  NaN   \n",
       "CC(=O)O[C@H]1CC2CC1[C@H]3[C@@H]2CCC3                https://pubchem.ncbi.nlm.nih.gov/compound/9174...   \n",
       "\n",
       "                                                   Detection Threshold  \\\n",
       "CC(=O)/C=C/[C@H]1C(=C)CCCC1(C)C                               1.10E+01   \n",
       "CC1=CC[C@H](CC1=O)C(=C)C                                      2.00E+00   \n",
       "C[C@H]1COCC2=CC3=C(C=C12)C([C@H](C3(C)C)C)(C)C                4.40E-01   \n",
       "C[C@@H]1CC(=O)C=C2[C@]1(C[C@@H](CC2)C(=C)C)C                  1.50E+01   \n",
       "CCC[C@@H]1CCO[C@@H](S1)C                                      2.00E+00   \n",
       "...                                                                ...   \n",
       "C[C@@H]1CC(=O)C[C@H]2[C@]1(C[C@@H](CC2)C(=C)C)C             5000-10000   \n",
       "C[C@]12CC[C@H]3[C@H]([C@@H]1CC=C2)CC[C@@H]4[C@@...            1.80E-01   \n",
       "CC/C(=C\\\\CC1CC=C(C1(C)C)C)/CO                                 5.40E+01   \n",
       "CC1=CC[C@H](C1(C)C)CC[C@@H](C)CO                              1.87E+01   \n",
       "CC(=O)O[C@H]1CC2CC1[C@H]3[C@@H]2CCC3                          5.00E+00   \n",
       "\n",
       "                                                   Detection Units  \\\n",
       "CC(=O)/C=C/[C@H]1C(=C)CCCC1(C)C                          ppb water   \n",
       "CC1=CC[C@H](CC1=O)C(=C)C                                       ppb   \n",
       "C[C@H]1COCC2=CC3=C(C=C12)C([C@H](C3(C)C)C)(C)C          ppb in air   \n",
       "C[C@@H]1CC(=O)C=C2[C@]1(C[C@@H](CC2)C(=C)C)C                   ppm   \n",
       "CCC[C@@H]1CCO[C@@H](S1)C                                       ppb   \n",
       "...                                                            ...   \n",
       "C[C@@H]1CC(=O)C[C@H]2[C@]1(C[C@@H](CC2)C(=C)C)C                NaN   \n",
       "C[C@]12CC[C@H]3[C@H]([C@@H]1CC=C2)CC[C@@H]4[C@@...             ppb   \n",
       "CC/C(=C\\\\CC1CC=C(C1(C)C)C)/CO                                  ppb   \n",
       "CC1=CC[C@H](C1(C)C)CC[C@@H](C)CO                               ppb   \n",
       "CC(=O)O[C@H]1CC2CC1[C@H]3[C@@H]2CCC3                           ppb   \n",
       "\n",
       "                                                    Normalized Detection Threshold  \\\n",
       "CC(=O)/C=C/[C@H]1C(=C)CCCC1(C)C                                              11.00   \n",
       "CC1=CC[C@H](CC1=O)C(=C)C                                                      2.00   \n",
       "C[C@H]1COCC2=CC3=C(C=C12)C([C@H](C3(C)C)C)(C)C                                0.44   \n",
       "C[C@@H]1CC(=O)C=C2[C@]1(C[C@@H](CC2)C(=C)C)C                              15000.00   \n",
       "CCC[C@@H]1CCO[C@@H](S1)C                                                      2.00   \n",
       "...                                                                            ...   \n",
       "C[C@@H]1CC(=O)C[C@H]2[C@]1(C[C@@H](CC2)C(=C)C)C                                NaN   \n",
       "C[C@]12CC[C@H]3[C@H]([C@@H]1CC=C2)CC[C@@H]4[C@@...                             NaN   \n",
       "CC/C(=C\\\\CC1CC=C(C1(C)C)C)/CO                                                  NaN   \n",
       "CC1=CC[C@H](C1(C)C)CC[C@@H](C)CO                                               NaN   \n",
       "CC(=O)O[C@H]1CC2CC1[C@H]3[C@@H]2CCC3                                           NaN   \n",
       "\n",
       "                                                                                       Molecule Odour  \\\n",
       "CC(=O)/C=C/[C@H]1C(=C)CCCC1(C)C                     Weak green, fruity, pineapple-like odor with m...   \n",
       "CC1=CC[C@H](CC1=O)C(=C)C                                                sweet spearmint, fresh herbal   \n",
       "C[C@H]1COCC2=CC3=C(C=C12)C([C@H](C3(C)C)C)(C)C                                weak to almost odorless   \n",
       "C[C@@H]1CC(=O)C=C2[C@]1(C[C@@H](CC2)C(=C)C)C                                          grapefruit odor   \n",
       "CCC[C@@H]1CCO[C@@H](S1)C                            \\\\xe2\\\\x80\\\\x9ctypical sulfurous, with a rubbe...   \n",
       "...                                                                                               ...   \n",
       "C[C@@H]1CC(=O)C[C@H]2[C@]1(C[C@@H](CC2)C(=C)C)C     On an odor rating scale: fresh, green, sour, d...   \n",
       "C[C@]12CC[C@H]3[C@H]([C@@H]1CC=C2)CC[C@@H]4[C@@...                                  strong urine odor   \n",
       "CC/C(=C\\\\CC1CC=C(C1(C)C)C)/CO                       fresh and strong sandalwood oil odor associate...   \n",
       "CC1=CC[C@H](C1(C)C)CC[C@@H](C)CO                    peculiar sandalwood\\\\\\'s strongly excellent smell   \n",
       "CC(=O)O[C@H]1CC2CC1[C@H]3[C@@H]2CCC3                              very strong, sandal(wood), animalic   \n",
       "\n",
       "                                                                                            Resources  \\\n",
       "CC(=O)/C=C/[C@H]1C(=C)CCCC1(C)C                     Rows 66-100 are from here: https://www.jstage....   \n",
       "CC1=CC[C@H](CC1=O)C(=C)C                            Rows 122 - 193 are from here: https://github.c...   \n",
       "C[C@H]1COCC2=CC3=C(C=C12)C([C@H](C3(C)C)C)(C)C      Rows 224-267 are from here: https://github.com...   \n",
       "C[C@@H]1CC(=O)C=C2[C@]1(C[C@@H](CC2)C(=C)C)C        Rows 370-407 are from here: https://github.com...   \n",
       "CCC[C@@H]1CCO[C@@H](S1)C                            Rows 424-435 are from here: https://github.com...   \n",
       "...                                                                                               ...   \n",
       "C[C@@H]1CC(=O)C[C@H]2[C@]1(C[C@@H](CC2)C(=C)C)C                                                   NaN   \n",
       "C[C@]12CC[C@H]3[C@H]([C@@H]1CC=C2)CC[C@@H]4[C@@...                                                NaN   \n",
       "CC/C(=C\\\\CC1CC=C(C1(C)C)C)/CO                                                                     NaN   \n",
       "CC1=CC[C@H](C1(C)C)CC[C@@H](C)CO                                                                  NaN   \n",
       "CC(=O)O[C@H]1CC2CC1[C@H]3[C@@H]2CCC3                                                              NaN   \n",
       "\n",
       "                                                      N   log_abs  ...  \\\n",
       "CC(=O)/C=C/[C@H]1C(=C)CCCC1(C)C                       0  2.196295  ...   \n",
       "CC1=CC[C@H](CC1=O)C(=C)C                              1  2.643453  ...   \n",
       "C[C@H]1COCC2=CC3=C(C=C12)C([C@H](C3(C)C)C)(C)C        2  0.301030  ...   \n",
       "C[C@@H]1CC(=O)C=C2[C@]1(C[C@@H](CC2)C(=C)C)C          3       NaN  ...   \n",
       "CCC[C@@H]1CCO[C@@H](S1)C                              4  2.920819  ...   \n",
       "...                                                 ...       ...  ...   \n",
       "C[C@@H]1CC(=O)C[C@H]2[C@]1(C[C@@H](CC2)C(=C)C)C     217       NaN  ...   \n",
       "C[C@]12CC[C@H]3[C@H]([C@@H]1CC=C2)CC[C@@H]4[C@@...  219       NaN  ...   \n",
       "CC/C(=C\\\\CC1CC=C(C1(C)C)C)/CO                       221       NaN  ...   \n",
       "CC1=CC[C@H](C1(C)C)CC[C@@H](C)CO                    223       NaN  ...   \n",
       "CC(=O)O[C@H]1CC2CC1[C@H]3[C@@H]2CCC3                227       NaN  ...   \n",
       "\n",
       "                                                      SRW10   TSRW10       MW  \\\n",
       "CC(=O)/C=C/[C@H]1C(=C)CCCC1(C)C                     9.50144  45.5963  192.151   \n",
       "CC1=CC[C@H](CC1=O)C(=C)C                            9.07142  40.9913  150.104   \n",
       "C[C@H]1COCC2=CC3=C(C=C12)C([C@H](C3(C)C)C)(C)C      10.3832  68.8592  258.198   \n",
       "C[C@@H]1CC(=O)C=C2[C@]1(C[C@@H](CC2)C(=C)C)C        9.97883  49.2196  218.167   \n",
       "CCC[C@@H]1CCO[C@@H](S1)C                            8.66751  38.7042  160.092   \n",
       "...                                                     ...      ...      ...   \n",
       "C[C@@H]1CC(=O)C[C@H]2[C@]1(C[C@@H](CC2)C(=C)C)C     9.97883  49.2196  220.183   \n",
       "C[C@]12CC[C@H]3[C@H]([C@@H]1CC=C2)CC[C@@H]4[C@@...  10.4599  69.1263  272.214   \n",
       "CC/C(=C\\\\CC1CC=C(C1(C)C)C)/CO                       9.50084  61.0253  208.183   \n",
       "CC1=CC[C@H](C1(C)C)CC[C@@H](C)CO                    9.45399  59.7573  196.183   \n",
       "CC(=O)O[C@H]1CC2CC1[C@H]3[C@@H]2CCC3                9.80494  63.8478  194.131   \n",
       "\n",
       "                                                        AMW WPath WPol  \\\n",
       "CC(=O)/C=C/[C@H]1C(=C)CCCC1(C)C                     5.65151   301   19   \n",
       "CC1=CC[C@H](CC1=O)C(=C)C                            6.00418   152   14   \n",
       "C[C@H]1COCC2=CC3=C(C=C12)C([C@H](C3(C)C)C)(C)C      5.73774   595   39   \n",
       "C[C@@H]1CC(=O)C=C2[C@]1(C[C@@H](CC2)C(=C)C)C        5.74124   397   28   \n",
       "CCC[C@@H]1CCO[C@@H](S1)C                            6.15739   124   10   \n",
       "...                                                     ...   ...  ...   \n",
       "C[C@@H]1CC(=O)C[C@H]2[C@]1(C[C@@H](CC2)C(=C)C)C     5.50457   397   28   \n",
       "C[C@]12CC[C@H]3[C@H]([C@@H]1CC=C2)CC[C@@H]4[C@@...  5.67113   699   40   \n",
       "CC/C(=C\\\\CC1CC=C(C1(C)C)C)/CO                       5.33802   387   21   \n",
       "CC1=CC[C@H](C1(C)C)CC[C@@H](C)CO                     5.1627   317   19   \n",
       "CC(=O)O[C@H]1CC2CC1[C@H]3[C@@H]2CCC3                6.06658   285   17   \n",
       "\n",
       "                                                   Zagreb1 Zagreb2 mZagreb1  \\\n",
       "CC(=O)/C=C/[C@H]1C(=C)CCCC1(C)C                         68      76  6.64583   \n",
       "CC1=CC[C@H](CC1=O)C(=C)C                                52      58  5.19444   \n",
       "C[C@H]1COCC2=CC3=C(C=C12)C([C@H](C3(C)C)C)(C)C         112     141  8.04167   \n",
       "C[C@@H]1CC(=O)C=C2[C@]1(C[C@@H](CC2)C(=C)C)C            86     103  6.86806   \n",
       "CCC[C@@H]1CCO[C@@H](S1)C                                44      47  3.72222   \n",
       "...                                                    ...     ...      ...   \n",
       "C[C@@H]1CC(=O)C[C@H]2[C@]1(C[C@@H](CC2)C(=C)C)C         86     103  6.86806   \n",
       "C[C@]12CC[C@H]3[C@H]([C@@H]1CC=C2)CC[C@@H]4[C@@...     120     151  6.18056   \n",
       "CC/C(=C\\\\CC1CC=C(C1(C)C)C)/CO                           72      83  6.89583   \n",
       "CC1=CC[C@H](C1(C)C)CC[C@@H](C)CO                        68      78  6.64583   \n",
       "CC(=O)O[C@H]1CC2CC1[C@H]3[C@@H]2CCC3                    80      98  4.16667   \n",
       "\n",
       "                                                   mZagreb2  \n",
       "CC(=O)/C=C/[C@H]1C(=C)CCCC1(C)C                     3.06944  \n",
       "CC1=CC[C@H](CC1=O)C(=C)C                            2.47222  \n",
       "C[C@H]1COCC2=CC3=C(C=C12)C([C@H](C3(C)C)C)(C)C      3.83333  \n",
       "C[C@@H]1CC(=O)C=C2[C@]1(C[C@@H](CC2)C(=C)C)C        3.40278  \n",
       "CCC[C@@H]1CCO[C@@H](S1)C                            2.41667  \n",
       "...                                                     ...  \n",
       "C[C@@H]1CC(=O)C[C@H]2[C@]1(C[C@@H](CC2)C(=C)C)C     3.40278  \n",
       "C[C@]12CC[C@H]3[C@H]([C@@H]1CC=C2)CC[C@@H]4[C@@...  4.09722  \n",
       "CC/C(=C\\\\CC1CC=C(C1(C)C)C)/CO                           3.5  \n",
       "CC1=CC[C@H](C1(C)C)CC[C@@H](C)CO                    3.16667  \n",
       "CC(=O)O[C@H]1CC2CC1[C@H]3[C@@H]2CCC3                2.94444  \n",
       "\n",
       "[185 rows x 1836 columns]"
      ]
     },
     "execution_count": 118,
     "metadata": {},
     "output_type": "execute_result"
    }
   ],
   "source": [
    "all_data"
   ]
  },
  {
   "cell_type": "code",
   "execution_count": 91,
   "metadata": {},
   "outputs": [],
   "source": [
    "#BELOW IS CODE THAT i AM NOT CURRENTLY USING"
   ]
  },
  {
   "cell_type": "code",
   "execution_count": 21,
   "metadata": {},
   "outputs": [],
   "source": [
    "# Combine all DREAM molecular features into one dataframe\n",
    "molecular_data_all = dragon_all.join(nspdk_all).join(morgan_sim_all).astype('float')"
   ]
  },
  {
   "cell_type": "code",
   "execution_count": 22,
   "metadata": {},
   "outputs": [],
   "source": [
    "molecular_data_dream = molecular_data_all.loc[dream_smiles]\n",
    "# Reindex by the CIDs instead of the SMILES strings\n",
    "assert list(molecular_data_dream.index)==dream_smiles\n",
    "molecular_data_dream.index = dream_CIDs"
   ]
  },
  {
   "cell_type": "code",
   "execution_count": 23,
   "metadata": {},
   "outputs": [
    {
     "name": "stdout",
     "output_type": "stream",
     "text": [
      "The X matrix now has shape (952x1697) molecules by non-NaN good molecular descriptors\n"
     ]
    }
   ],
   "source": [
    "# Compute the final DREAM molecular features matrix.  \n",
    "X_dream,good1,good2,means,stds,imputer = a.dream.make_X(molecular_data_dream,dream_CID_dilutions)"
   ]
  },
  {
   "cell_type": "code",
   "execution_count": 24,
   "metadata": {},
   "outputs": [
    {
     "name": "stdout",
     "output_type": "stream",
     "text": [
      "The X matrix now has shape (32x1697) molecules by non-NaN good molecular descriptors\n"
     ]
    }
   ],
   "source": [
    "dummy_intensity = -3.0\n",
    "shadmany_CIDs = [shadmany_data.loc[smile]['Pubchem ID #'] for smile in shadmany_smiles]\n",
    "shadmany_CID_dilutions = [(shadmany_data.loc[smile]['Pubchem ID #'],dummy_intensity) for smile in shadmany_smiles]\n",
    "molecular_data_shadmany = molecular_data_all.loc[shadmany_smiles]\n",
    "assert list(molecular_data_shadmany.index) == shadmany_smiles\n",
    "molecular_data_shadmany.index = shadmany_CIDs\n",
    "X_shadmany = a.dream.make_X(molecular_data_shadmany,shadmany_CID_dilutions,\n",
    "                            good1=good1,good2=good2,means=means,stds=stds)[0]\n",
    "# Reorder molecules to match the order in the spreadsheet\n",
    "X_shadmany = X_shadmany.loc[[(cid,dummy_intensity) for cid in shadmany_data['Pubchem ID #']]]\n",
    "# Confirm that the order matches\n",
    "assert list(X_shadmany.index.get_level_values('CID')) == list(shadmany_data['Pubchem ID #'])"
   ]
  },
  {
   "cell_type": "markdown",
   "metadata": {},
   "source": [
    "## Fit model to DREAM data"
   ]
  },
  {
   "cell_type": "code",
   "execution_count": 25,
   "metadata": {},
   "outputs": [
    {
     "name": "stdout",
     "output_type": "stream",
     "text": [
      "1. Fitting model for Intensity...\n"
     ]
    }
   ],
   "source": [
    "# Model for DREAM data\n",
    "rfs = {}\n",
    "n_estimators = 25\n",
    "these_descriptors = a.descriptors[:1] # Just intensity\n",
    "Y_dream_mean = Y_dream.stack('Descriptor').mean(axis=1).unstack('Descriptor')\n",
    "for i,descriptor in enumerate(these_descriptors):\n",
    "    print(\"%d. Fitting model for %s...\" % (i+1,descriptor))\n",
    "    rfs[descriptor] = a.RandomForestRegressor(n_estimators=n_estimators)\n",
    "    valid = Y_dream_mean[descriptor].notnull()\n",
    "    rfs[descriptor].fit(X_dream.loc[valid].as_matrix(),Y_dream_mean[descriptor].loc[valid].as_matrix())"
   ]
  },
  {
   "cell_type": "code",
   "execution_count": 26,
   "metadata": {},
   "outputs": [
    {
     "name": "stdout",
     "output_type": "stream",
     "text": [
      "0.693696324394\n",
      "0.663224096853\n",
      "0.651281217356\n"
     ]
    }
   ],
   "source": [
    "# Check model quality by cross-validation on the DREAM data.  \n",
    "from sklearn.model_selection import GroupShuffleSplit\n",
    "x = X_dream.loc[valid]\n",
    "y = Y_dream_mean[descriptor].loc[valid]\n",
    "groups = x.index.get_level_values('CID')\n",
    "ss = GroupShuffleSplit(n_splits=3)\n",
    "for train,test in ss.split(x,groups=groups):\n",
    "    rfs['Intensity'] = a.RandomForestRegressor(n_estimators=25,random_state=0)\n",
    "    rfs['Intensity'].fit(x.iloc[train].as_matrix(),y.iloc[train].as_matrix())\n",
    "    predicted = rfs['Intensity'].predict(x.iloc[test].as_matrix())\n",
    "    observed = y.iloc[test]\n",
    "    print(a.np.corrcoef(predicted,observed)[0,1])"
   ]
  },
  {
   "cell_type": "markdown",
   "metadata": {},
   "source": [
    "## Compute predictions and display"
   ]
  },
  {
   "cell_type": "code",
   "execution_count": 27,
   "metadata": {},
   "outputs": [
    {
     "name": "stdout",
     "output_type": "stream",
     "text": [
      "t=-10.354, p=6.46e-23\n"
     ]
    },
    {
     "data": {
      "image/png": "[encoded data removed]",
      "text/plain": [
       "<matplotlib.figure.Figure at 0x7fb5142f66a0>"
      ]
     },
     "metadata": {},
     "output_type": "display_data"
    }
   ],
   "source": [
    "a.compare_smiles_lengths(dream_smiles,shadmany_smiles,['DREAM','Enantiomers']);"
   ]
  },
  {
   "cell_type": "code",
   "execution_count": 28,
   "metadata": {},
   "outputs": [
    {
     "name": "stdout",
     "output_type": "stream",
     "text": [
      "t=-3.964, p=8.42e-05\n"
     ]
    },
    {
     "data": {
      "image/png": "[encoded data removed]",
      "text/plain": [
       "<matplotlib.figure.Figure at 0x7fb5144c4e80>"
      ]
     },
     "metadata": {},
     "output_type": "display_data"
    }
   ],
   "source": [
    "a.compare_molecular_weights(molecular_data_dream,molecular_data_shadmany,['DREAM','Enantiomers']);"
   ]
  },
  {
   "cell_type": "code",
   "execution_count": 29,
   "metadata": {},
   "outputs": [],
   "source": [
    "predictions = a.make_predictions(rfs,X_shadmany,['Intensity'])"
   ]
  },
  {
   "cell_type": "code",
   "execution_count": 30,
   "metadata": {},
   "outputs": [],
   "source": [
    "plus_pred = predictions.iloc[0::2]['Intensity'].values\n",
    "minus_pred = predictions.iloc[1::2]['Intensity'].values"
   ]
  },
  {
   "cell_type": "code",
   "execution_count": 31,
   "metadata": {},
   "outputs": [
    {
     "data": {
      "image/png": "[encoded data removed]",
      "text/plain": [
       "<matplotlib.figure.Figure at 0x7fb514f99390>"
      ]
     },
     "metadata": {},
     "output_type": "display_data"
    }
   ],
   "source": [
    "a.plt.scatter(plus_pred,minus_pred)\n",
    "a.plt.plot([0,100],[0,100],'--')\n",
    "a.plt.xlabel('(+) intensity prediction')\n",
    "a.plt.ylabel('(-) intensity prediction')\n",
    "a.plt.show()"
   ]
  },
  {
   "cell_type": "code",
   "execution_count": 32,
   "metadata": {},
   "outputs": [],
   "source": [
    "plus_thresh = shadmany_data.iloc[0::2]['Normalized Detection Threshold'].values\n",
    "minus_thresh = shadmany_data.iloc[1::2]['Normalized Detection Threshold'].values\n",
    "plus_thresh = a.np.clip(plus_thresh,1e-8,1e8)\n",
    "minus_thresh = a.np.clip(minus_thresh,1e-8,1e8)"
   ]
  },
  {
   "cell_type": "code",
   "execution_count": 33,
   "metadata": {},
   "outputs": [
    {
     "data": {
      "image/png": "[encoded data removed]",
      "text/plain": [
       "<matplotlib.figure.Figure at 0x7fb4ffcb1d30>"
      ]
     },
     "metadata": {},
     "output_type": "display_data"
    }
   ],
   "source": [
    "a.plt.scatter(plus_thresh,minus_thresh)\n",
    "a.plt.plot([1e-7,1e9],[1e-7,1e9],'--')\n",
    "a.plt.xlim(1e-7,1e9)\n",
    "a.plt.ylim(1e-7,1e9)\n",
    "a.plt.xscale('log')\n",
    "a.plt.yscale('log')\n",
    "a.plt.xlabel('(+) detection threshold (ppb)')\n",
    "a.plt.ylabel('(-) detection threshold (ppb)')\n",
    "a.plt.show()"
   ]
  },
  {
   "cell_type": "code",
   "execution_count": 34,
   "metadata": {},
   "outputs": [
    {
     "data": {
      "image/png": "[encoded data removed]",
      "text/plain": [
       "<matplotlib.figure.Figure at 0x7fb4f24e5390>"
      ]
     },
     "metadata": {},
     "output_type": "display_data"
    }
   ],
   "source": [
    "delta_pred = plus_pred - minus_pred\n",
    "delta_thresh = a.np.log10(minus_thresh / plus_thresh)\n",
    "inds = delta_thresh.argsort()\n",
    "delta_pred = delta_pred[inds]\n",
    "delta_thresh = delta_thresh[inds]\n",
    "negative = delta_thresh < 0\n",
    "delta_thresh[negative] *= -1\n",
    "delta_pred[negative] *= -1\n",
    "a.plt.scatter(delta_pred,delta_thresh)\n",
    "a.plt.xlabel('Predicted intensity difference (+) vs (-)')\n",
    "a.plt.ylabel('Actual detection threshold difference\\n in log units (+) vs (-)')\n",
    "a.plt.plot([0,0],[0,8],'--')\n",
    "a.plt.xlim(-1,1)\n",
    "a.plt.show()"
   ]
  },
  {
   "cell_type": "code",
   "execution_count": 35,
   "metadata": {},
   "outputs": [
    {
     "name": "stdout",
     "output_type": "stream",
     "text": [
      "Correlation coefficient R = nan\n"
     ]
    },
    {
     "name": "stderr",
     "output_type": "stream",
     "text": [
      "/home/rgerkin/miniconda3/lib/python3.6/site-packages/numpy/lib/function_base.py:3167: RuntimeWarning: invalid value encountered in true_divide\n",
      "  c /= stddev[:, None]\n",
      "/home/rgerkin/miniconda3/lib/python3.6/site-packages/numpy/lib/function_base.py:3168: RuntimeWarning: invalid value encountered in true_divide\n",
      "  c /= stddev[None, :]\n"
     ]
    }
   ],
   "source": [
    "print(\"Correlation coefficient R = %.3f\" % a.np.corrcoef(delta_pred,delta_thresh)[0,1])"
   ]
  },
  {
   "cell_type": "code",
   "execution_count": 36,
   "metadata": {},
   "outputs": [
    {
     "data": {
      "image/png": "[encoded data removed]",
      "text/plain": [
       "<matplotlib.figure.Figure at 0x7fb4f24edc18>"
      ]
     },
     "metadata": {},
     "output_type": "display_data"
    },
    {
     "name": "stdout",
     "output_type": "stream",
     "text": [
      "Correlation between predicted intensity and actual detection thresholds is R=-0.359\n"
     ]
    }
   ],
   "source": [
    "a.plt.scatter(plus_thresh,plus_pred,color='r',label='(+)')\n",
    "a.plt.scatter(minus_thresh,minus_pred,color='b',label='(-)')\n",
    "a.plt.xscale('log')\n",
    "a.plt.xlim(1e-9,1e9)\n",
    "a.plt.xlabel('Detection Threshold (ppb)')\n",
    "a.plt.ylabel('Predicted Intensity')\n",
    "a.plt.legend()\n",
    "a.plt.show()\n",
    "print(\"Correlation between predicted intensity and actual detection thresholds is R=%.3f\" % \\\n",
    "      a.np.corrcoef(a.np.concatenate((plus_thresh,minus_thresh)),a.np.concatenate((plus_pred,minus_pred)))[0,1])"
   ]
  },
  {
   "cell_type": "code",
   "execution_count": null,
   "metadata": {},
   "outputs": [],
   "source": []
  }
 ],
 "metadata": {
  "kernelspec": {
   "display_name": "Python 3",
   "language": "python",
   "name": "python3"
  },
  "language_info": {
   "codemirror_mode": {
    "name": "ipython",
    "version": 3
   },
   "file_extension": ".py",
   "mimetype": "text/x-python",
   "name": "python",
   "nbconvert_exporter": "python",
   "pygments_lexer": "ipython3",
   "version": "3.7.4"
  }
 },
 "nbformat": 4,
 "nbformat_minor": 4
}
